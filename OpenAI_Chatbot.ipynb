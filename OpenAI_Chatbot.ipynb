{
 "cells": [
  {
   "cell_type": "code",
   "execution_count": 28,
   "id": "9245a766",
   "metadata": {},
   "outputs": [],
   "source": [
    "# https://github.com/daveebbelaar/airbnb-whatsapp-bot/blob/main/app/services/openai_service.py\n",
    "from openai import OpenAI\n",
    "import shelve\n",
    "# from dotenv import load_dotenv\n",
    "import os\n",
    "import time\n",
    "import logging\n",
    "logging.basicConfig(format='%(asctime)s %(message)s')\n",
    "\n",
    "# load_dotenv()\n",
    "client = OpenAI()"
   ]
  },
  {
   "cell_type": "code",
   "execution_count": 29,
   "id": "7b743cd4",
   "metadata": {},
   "outputs": [],
   "source": [
    "\n",
    "def upload_file(path):\n",
    "    # Upload a file with an \"assistants\" purpose\n",
    "    file = client.files.create(\n",
    "        file=open(\"./data/airbnb-faq.pdf\", \"rb\"), purpose=\"assistants\"\n",
    "    )\n",
    "    return file\n",
    "\n",
    "\n",
    "def create_assistant(file):\n",
    "    \"\"\"\n",
    "    You currently cannot set the temperature for Assistant via the API.\n",
    "    \"\"\"\n",
    "    assistant = client.beta.assistants.create(\n",
    "        name=\"WhatsApp AirBnb Assistant\",\n",
    "        instructions=\"You're a helpful WhatsApp assistant that can assist guests that are staying in our Paris AirBnb. Use your knowledge base to best respond to customer queries. If you don't know the answer, say simply that you cannot help with question and advice to contact the host directly. Be friendly and funny.\",\n",
    "        tools=[{\"type\": \"retrieval\"}],\n",
    "        model=\"gpt-4-1106-preview\",\n",
    "        file_ids=[file.id],\n",
    "    )\n",
    "    return assistant\n",
    "\n",
    "\n",
    "# Use context manager to ensure the shelf file is closed properly\n",
    "def check_if_thread_exists(wa_id):\n",
    "    with shelve.open(\"threads_db\") as threads_shelf:\n",
    "        return threads_shelf.get(wa_id, None)\n",
    "\n",
    "\n",
    "def store_thread(wa_id, thread_id):\n",
    "    with shelve.open(\"threads_db\", writeback=True) as threads_shelf:\n",
    "        threads_shelf[wa_id] = thread_id\n",
    "\n",
    "\n",
    "def run_assistant(thread, name):\n",
    "    # Retrieve the Assistant\n",
    "    assistant = client.beta.assistants.retrieve(\"asst_4bRlDD4TMebiulfR0vh1gejO\")\n",
    "\n",
    "    # Run the assistant\n",
    "    run = client.beta.threads.runs.create(\n",
    "        thread_id=thread.id,\n",
    "        assistant_id=assistant.id,\n",
    "        # instructions=f\"You are having a conversation with {name}\",\n",
    "    )\n",
    "\n",
    "    # Wait for completion\n",
    "    # https://platform.openai.com/docs/assistants/how-it-works/runs-and-run-steps#:~:text=under%20failed_at.-,Polling%20for%20updates,-In%20order%20to\n",
    "    while run.status != \"completed\":\n",
    "        # Be nice to the API\n",
    "        time.sleep(0.5)\n",
    "        run = client.beta.threads.runs.retrieve(thread_id=thread.id, run_id=run.id)\n",
    "\n",
    "    # Retrieve the Messages\n",
    "    messages = client.beta.threads.messages.list(thread_id=thread.id)\n",
    "    new_message = messages.data[0].content[0].text.value\n",
    "    logging.info(f\"Generated message: {new_message}\")\n",
    "    return new_message\n",
    "\n",
    "\n",
    "def generate_response(message_body, wa_id, name):\n",
    "    # Check if there is already a thread_id for the wa_id\n",
    "    thread_id = check_if_thread_exists(wa_id)\n",
    "\n",
    "    # If a thread doesn't exist, create one and store it\n",
    "    if thread_id is None:\n",
    "        logging.info(f\"Creating new thread for {name} with wa_id {wa_id}\")\n",
    "        thread = client.beta.threads.create()\n",
    "        store_thread(wa_id, thread.id)\n",
    "        thread_id = thread.id\n",
    "\n",
    "    # Otherwise, retrieve the existing thread\n",
    "    else:\n",
    "        logging.info(f\"Retrieving existing thread for {name} with wa_id {wa_id}\")\n",
    "        thread = client.beta.threads.retrieve(thread_id)\n",
    "\n",
    "    # Add message to thread\n",
    "    message = client.beta.threads.messages.create(\n",
    "        thread_id=thread_id,\n",
    "        role=\"user\",\n",
    "        content=message_body,\n",
    "    )\n",
    "\n",
    "    # Run the assistant and get the new message\n",
    "    new_message = run_assistant(thread, name)\n",
    "\n",
    "    return new_message"
   ]
  },
  {
   "cell_type": "code",
   "execution_count": 18,
   "id": "5da58165",
   "metadata": {},
   "outputs": [],
   "source": [
    "file = upload_file(path = \"\")"
   ]
  },
  {
   "cell_type": "code",
   "execution_count": 20,
   "id": "0b1938d8",
   "metadata": {},
   "outputs": [],
   "source": [
    "assistant = create_assistant(file)"
   ]
  },
  {
   "cell_type": "code",
   "execution_count": 32,
   "id": "6c0ad4ef",
   "metadata": {},
   "outputs": [
    {
     "data": {
      "text/plain": [
       "\"The check-in time is after 3 PM. Don't forget that patience is a virtue, especially when it's rewarded with a cozy Parisian haven!【8†source】\""
      ]
     },
     "execution_count": 32,
     "metadata": {},
     "output_type": "execute_result"
    }
   ],
   "source": [
    "message_body = \"what is the checkin time?\"\n",
    "generate_response(message_body, wa_id = \"123\", name = \"Ting\")"
   ]
  },
  {
   "cell_type": "code",
   "execution_count": 27,
   "id": "7798183b",
   "metadata": {},
   "outputs": [
    {
     "data": {
      "text/plain": [
       "'Absolutely, I have some \"à la carte\" suggestions for your Parisian culinary adventure:\\n\\n- **La Petite Parisienne**, nestled at 15 Rue de Montmorency, is a real treat.\\n- **Chez Julien**, conveniently located at 1 Rue du Pont Louis-Philippe, offers a taste of local flair.\\n- And for a dash of Parisian charm, **Le Saint Régis** on 6 Rue Jean du Bellay awaits your visit.\\n\\nThey all offer delicious Parisian cuisine that can make your taste buds dance the can-can! Enjoy your gourmet journey! 🍽️✨'"
      ]
     },
     "execution_count": 27,
     "metadata": {},
     "output_type": "execute_result"
    }
   ],
   "source": [
    "message_body = \"Are there any local restaurants you'd suggest?\"\n",
    "generate_response(message_body, wa_id = \"456\", name = \"Huanxin\")"
   ]
  },
  {
   "cell_type": "code",
   "execution_count": 45,
   "id": "e27c8263",
   "metadata": {},
   "outputs": [
    {
     "data": {
      "text/plain": [
       "'thread_O9IHW6LdsMgtcbhQPZZL80NB'"
      ]
     },
     "execution_count": 45,
     "metadata": {},
     "output_type": "execute_result"
    }
   ],
   "source": [
    "thread_id = check_if_thread_exists(wa_id = \"123\")\n",
    "thread_id"
   ]
  },
  {
   "cell_type": "code",
   "execution_count": 35,
   "id": "fee23ae4",
   "metadata": {},
   "outputs": [
    {
     "data": {
      "text/plain": [
       "'thread_idOC1YaviCnRy3CSPeROWlla'"
      ]
     },
     "execution_count": 35,
     "metadata": {},
     "output_type": "execute_result"
    }
   ],
   "source": [
    "thread_id = check_if_thread_exists(wa_id = \"456\")\n",
    "thread_id"
   ]
  },
  {
   "cell_type": "code",
   "execution_count": 46,
   "id": "aff178dc",
   "metadata": {},
   "outputs": [],
   "source": [
    "message_body = \"Are there any local restaurants you'd suggest?\""
   ]
  },
  {
   "cell_type": "code",
   "execution_count": 47,
   "id": "2887041b",
   "metadata": {},
   "outputs": [],
   "source": [
    "# Add message to thread\n",
    "message = client.beta.threads.messages.create(\n",
    "        thread_id=thread_id,\n",
    "        role=\"user\",\n",
    "        content=message_body,\n",
    ")"
   ]
  },
  {
   "cell_type": "code",
   "execution_count": 48,
   "id": "38ee53fb",
   "metadata": {},
   "outputs": [],
   "source": [
    "run = client.beta.threads.runs.create(\n",
    "        thread_id=thread_id,\n",
    "        assistant_id=assistant.id,\n",
    "        # instructions=f\"You are having a conversation with {name}\",\n",
    "    )\n"
   ]
  },
  {
   "cell_type": "code",
   "execution_count": 52,
   "id": "01ef5156",
   "metadata": {},
   "outputs": [
    {
     "data": {
      "text/plain": [
       "'queued'"
      ]
     },
     "execution_count": 52,
     "metadata": {},
     "output_type": "execute_result"
    }
   ],
   "source": [
    "run.status"
   ]
  },
  {
   "cell_type": "code",
   "execution_count": 50,
   "id": "262a0c57",
   "metadata": {},
   "outputs": [],
   "source": [
    "messages = client.beta.threads.messages.list(thread_id=thread_id)\n",
    "new_message = messages.data[0].content[0].text.value"
   ]
  },
  {
   "cell_type": "code",
   "execution_count": 51,
   "id": "2696246d",
   "metadata": {},
   "outputs": [
    {
     "data": {
      "text/plain": [
       "'Certainly! For a taste of Paris that will make your taste buds do a little happy dance, try these fantastic spots:\\n\\n- **La Petite Parisienne**, at 15 Rue de Montmorency\\n- **Chez Julien**, at 1 Rue du Pont Louis-Philippe\\n- **Le Saint Régis**, at 6 Rue Jean du Bellay\\n\\nThey are all highly recommended for their Parisian cuisine. Enjoy your gastronomic adventure!【13†source】'"
      ]
     },
     "execution_count": 51,
     "metadata": {},
     "output_type": "execute_result"
    }
   ],
   "source": [
    "new_message"
   ]
  }
 ],
 "metadata": {
  "kernelspec": {
   "display_name": "Python 3 (ipykernel)",
   "language": "python",
   "name": "python3"
  },
  "language_info": {
   "codemirror_mode": {
    "name": "ipython",
    "version": 3
   },
   "file_extension": ".py",
   "mimetype": "text/x-python",
   "name": "python",
   "nbconvert_exporter": "python",
   "pygments_lexer": "ipython3",
   "version": "3.9.17"
  }
 },
 "nbformat": 4,
 "nbformat_minor": 5
}
